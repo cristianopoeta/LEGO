{
  "nbformat": 4,
  "nbformat_minor": 0,
  "metadata": {
    "kernelspec": {
      "display_name": "Python 3",
      "language": "python",
      "name": "python3"
    },
    "language_info": {
      "codemirror_mode": {
        "name": "ipython",
        "version": 3
      },
      "file_extension": ".py",
      "mimetype": "text/x-python",
      "name": "python",
      "nbconvert_exporter": "python",
      "pygments_lexer": "ipython3",
      "version": "3.8.5"
    },
    "colab": {
      "name": "Brickset.ipynb",
      "provenance": [],
      "collapsed_sections": [],
      "include_colab_link": true
    }
  },
  "cells": [
    {
      "cell_type": "markdown",
      "metadata": {
        "id": "view-in-github",
        "colab_type": "text"
      },
      "source": [
        "<a href=\"https://colab.research.google.com/github/cristianopoeta/LEGO/blob/main/Brickset.ipynb\" target=\"_parent\"><img src=\"https://colab.research.google.com/assets/colab-badge.svg\" alt=\"Open In Colab\"/></a>"
      ]
    },
    {
      "cell_type": "code",
      "metadata": {
        "id": "5jCk3K7OAd4X"
      },
      "source": [
        "txt_separador = '\\n'\n",
        "txt_sets = '''21164\n",
        "30344\n",
        "60290\n",
        "41664\n",
        "75297\n",
        "41442\n",
        "71381\n",
        "43191\n",
        "41931\n",
        "10944\n",
        "41924\n",
        "76388\n",
        "41926\n",
        "31111\n",
        "71741\n",
        "10952\n",
        "42121\n",
        "75299\n",
        "11013\n",
        "76172\n",
        "30557\n",
        "30579\n",
        "31112\n",
        "21170\n",
        "21326\n",
        "40448\n",
        "60291\n",
        "41450'''"
      ],
      "execution_count": 1,
      "outputs": []
    },
    {
      "cell_type": "code",
      "metadata": {
        "id": "26XKVM7JAd4i"
      },
      "source": [
        "import re\n",
        "import requests\n",
        "import numpy as np\n",
        "import pandas as pd\n",
        "from bs4 import BeautifulSoup\n",
        "from urllib.parse import urljoin"
      ],
      "execution_count": 2,
      "outputs": []
    },
    {
      "cell_type": "code",
      "metadata": {
        "id": "80Q2erPuAd4j"
      },
      "source": [
        "pdod = pd.options.display\n",
        "pdod.max_columns = None\n",
        "pdod.max_colwidth = 50"
      ],
      "execution_count": 3,
      "outputs": []
    },
    {
      "cell_type": "code",
      "metadata": {
        "id": "oXecn-BoAd4k"
      },
      "source": [
        "def soup_details(txt_set):\n",
        "    url_base = 'https://brickset.com/sets/'\n",
        "    url_set = urljoin(url_base, txt_set)\n",
        "    resp_set = requests.get(url_set)\n",
        "    resp_set.encoding = resp_set.apparent_encoding\n",
        "    bs_set = BeautifulSoup(resp_set.text)\n",
        "    dl_details = bs_set.find(class_='featurebox').find('dl')\n",
        "    return dl_details\n",
        "\n",
        "def dict_atribs(dl_details):\n",
        "    dct_atribs = {}\n",
        "    for dt, dd in zip(dl_details('dt'), dl_details('dd')):\n",
        "        dct_atribs[dt.text] = dd.text \n",
        "    tags_set = [a_tag.text.strip() for a_tag in dl_details.find('dt', string='Tags')\n",
        "                .find_next_sibling('dd').select('div[id^=\"tags\"] a')]\n",
        "    if tags_set:\n",
        "        dct_atribs['Tags'] = tags_set\n",
        "    else:\n",
        "        dct_atribs['Tags'] = np.nan\n",
        "    dt_designer = dl_details.find('dt', string=lambda s: s.startswith('Designer'))\n",
        "    if dt_designer:\n",
        "        designers = [a_tag.text.strip() for a_tag \n",
        "                     in dt_designer.find_next_sibling('dd').find_all('a')]\n",
        "        dct_atribs['Designers'] = designers\n",
        "        try:\n",
        "            del dct_atribs['Designer']\n",
        "        except KeyError:\n",
        "            pass\n",
        "    else:\n",
        "        dct_atribs['Designers'] = np.nan\n",
        "    return dct_atribs"
      ],
      "execution_count": 4,
      "outputs": []
    },
    {
      "cell_type": "code",
      "metadata": {
        "id": "GuH-EbLsAd4l"
      },
      "source": [
        "def frame_sets(dct_sets):\n",
        "    df_sets = (\n",
        "        pd.DataFrame.from_dict(dct_sets, orient='index')\n",
        "        .rename_axis('Set lista')\n",
        "        .pipe(lambda df:\n",
        "            df\n",
        "            .drop(columns=['RRP', 'Price per piece', 'Minifigs'])\n",
        "            .join(\n",
        "                [\n",
        "                    df.RRP\n",
        "                    .str.extract(r'£([\\d\\.]+) / \\$([\\d\\.]+) / ([\\d\\.]+)€')\n",
        "                    .set_axis(['RRP GBP', 'RRP USD', 'RRP EUR'], axis=1)\n",
        "                    .astype('float64'),\n",
        "\n",
        "                    df.Minifigs\n",
        "                    .str.extract(r'^(\\d+)(?: \\((\\d+) Unique to this set\\))?$')\n",
        "                    .set_axis(['Minifigs', 'Unique to set'], axis=1)\n",
        "                    .fillna(0)\n",
        "                    .astype('int64')\n",
        "                ]\n",
        "            )\n",
        "        )\n",
        "    )\n",
        "    cols_int64 = ['Year released', 'Pieces']\n",
        "    df_sets.loc[:, cols_int64] = (\n",
        "        df_sets\n",
        "        .loc[:, cols_int64]\n",
        "        .fillna('0')\n",
        "        .astype('int64')\n",
        "    )\n",
        "    return df_sets"
      ],
      "execution_count": 5,
      "outputs": []
    },
    {
      "cell_type": "code",
      "metadata": {
        "id": "OWtDavQxAd4n"
      },
      "source": [
        "dct_sets = {}\n",
        "lst_sets = txt_sets.split(txt_separador)\n",
        "qtd_sets = len(lst_sets)"
      ],
      "execution_count": 6,
      "outputs": []
    },
    {
      "cell_type": "code",
      "metadata": {
        "colab": {
          "base_uri": "https://localhost:8080/"
        },
        "id": "hJ7QuSOeAd4n",
        "outputId": "4459fbb1-2d56-4cb1-e8fc-144b570bec01"
      },
      "source": [
        "for ind_set, txt_set in enumerate(lst_sets, 1):\n",
        "    print(f'Set {ind_set}/{qtd_sets} [{txt_set}]:', end=' ')\n",
        "    try:\n",
        "        if txt_set in dct_sets:\n",
        "            print('coletado anteriormente. ')\n",
        "        else:\n",
        "            print('obtendo atributos...', end=' ')\n",
        "            dct_sets[txt_set] = dict_atribs(soup_details(txt_set))\n",
        "            print(f'{len(dct_sets[txt_set])} atributos coletados. ')\n",
        "    except Exception as e:\n",
        "        print(e)"
      ],
      "execution_count": 7,
      "outputs": [
        {
          "output_type": "stream",
          "text": [
            "Set 1/28 [21164]: obtendo atributos... 19 atributos coletados. \n",
            "Set 2/28 [30344]: obtendo atributos... 15 atributos coletados. \n",
            "Set 3/28 [60290]: obtendo atributos... 21 atributos coletados. \n",
            "Set 4/28 [41664]: obtendo atributos... 19 atributos coletados. \n",
            "Set 5/28 [75297]: obtendo atributos... 17 atributos coletados. \n",
            "Set 6/28 [41442]: obtendo atributos... 17 atributos coletados. \n",
            "Set 7/28 [71381]: obtendo atributos... 20 atributos coletados. \n",
            "Set 8/28 [43191]: obtendo atributos... 20 atributos coletados. \n",
            "Set 9/28 [41931]: obtendo atributos... 16 atributos coletados. \n",
            "Set 10/28 [10944]: obtendo atributos... 9 atributos coletados. \n",
            "Set 11/28 [41924]: obtendo atributos... 19 atributos coletados. \n",
            "Set 12/28 [76388]: obtendo atributos... 17 atributos coletados. \n",
            "Set 13/28 [41926]: obtendo atributos... 18 atributos coletados. \n",
            "Set 14/28 [31111]: obtendo atributos... 18 atributos coletados. \n",
            "Set 15/28 [71741]: obtendo atributos... 20 atributos coletados. \n",
            "Set 16/28 [10952]: obtendo atributos... 16 atributos coletados. \n",
            "Set 17/28 [42121]: obtendo atributos... 16 atributos coletados. \n",
            "Set 18/28 [75299]: obtendo atributos... 20 atributos coletados. \n",
            "Set 19/28 [11013]: obtendo atributos... 15 atributos coletados. \n",
            "Set 20/28 [76172]: obtendo atributos... 20 atributos coletados. \n",
            "Set 21/28 [30557]: obtendo atributos... 15 atributos coletados. \n",
            "Set 22/28 [30579]: obtendo atributos... 18 atributos coletados. \n",
            "Set 23/28 [31112]: obtendo atributos... 19 atributos coletados. \n",
            "Set 24/28 [21170]: obtendo atributos... 19 atributos coletados. \n",
            "Set 25/28 [21326]: obtendo atributos... 22 atributos coletados. \n",
            "Set 26/28 [40448]: obtendo atributos... 21 atributos coletados. \n",
            "Set 27/28 [60291]: obtendo atributos... 21 atributos coletados. \n",
            "Set 28/28 [41450]: obtendo atributos... 17 atributos coletados. \n"
          ],
          "name": "stdout"
        }
      ]
    },
    {
      "cell_type": "code",
      "metadata": {
        "colab": {
          "base_uri": "https://localhost:8080/",
          "height": 383
        },
        "id": "0LljX2N2Ad4p",
        "outputId": "166d46ea-e6cc-432d-980a-87a3305830a5"
      },
      "source": [
        "df_sets = frame_sets(dct_sets)\n",
        "display(df_sets.head(2))\n",
        "display(df_sets.shape)"
      ],
      "execution_count": 8,
      "outputs": [
        {
          "output_type": "display_data",
          "data": {
            "text/html": [
              "<div>\n",
              "<style scoped>\n",
              "    .dataframe tbody tr th:only-of-type {\n",
              "        vertical-align: middle;\n",
              "    }\n",
              "\n",
              "    .dataframe tbody tr th {\n",
              "        vertical-align: top;\n",
              "    }\n",
              "\n",
              "    .dataframe thead th {\n",
              "        text-align: right;\n",
              "    }\n",
              "</style>\n",
              "<table border=\"1\" class=\"dataframe\">\n",
              "  <thead>\n",
              "    <tr style=\"text-align: right;\">\n",
              "      <th></th>\n",
              "      <th>Set number</th>\n",
              "      <th>Name</th>\n",
              "      <th>Set type</th>\n",
              "      <th>Theme group</th>\n",
              "      <th>Theme</th>\n",
              "      <th>Subtheme</th>\n",
              "      <th>Year released</th>\n",
              "      <th>Tags</th>\n",
              "      <th>Pieces</th>\n",
              "      <th>Packaging</th>\n",
              "      <th>Dimensions</th>\n",
              "      <th>Barcodes</th>\n",
              "      <th>LEGO item numbers</th>\n",
              "      <th>Availability</th>\n",
              "      <th>Rating</th>\n",
              "      <th>Designers</th>\n",
              "      <th>Current value</th>\n",
              "      <th>Notes</th>\n",
              "      <th>Age range</th>\n",
              "      <th>Weight</th>\n",
              "      <th>RRP GBP</th>\n",
              "      <th>RRP USD</th>\n",
              "      <th>RRP EUR</th>\n",
              "      <th>Minifigs</th>\n",
              "      <th>Unique to set</th>\n",
              "    </tr>\n",
              "    <tr>\n",
              "      <th>Set lista</th>\n",
              "      <th></th>\n",
              "      <th></th>\n",
              "      <th></th>\n",
              "      <th></th>\n",
              "      <th></th>\n",
              "      <th></th>\n",
              "      <th></th>\n",
              "      <th></th>\n",
              "      <th></th>\n",
              "      <th></th>\n",
              "      <th></th>\n",
              "      <th></th>\n",
              "      <th></th>\n",
              "      <th></th>\n",
              "      <th></th>\n",
              "      <th></th>\n",
              "      <th></th>\n",
              "      <th></th>\n",
              "      <th></th>\n",
              "      <th></th>\n",
              "      <th></th>\n",
              "      <th></th>\n",
              "      <th></th>\n",
              "      <th></th>\n",
              "      <th></th>\n",
              "    </tr>\n",
              "  </thead>\n",
              "  <tbody>\n",
              "    <tr>\n",
              "      <th>21164</th>\n",
              "      <td>21164-1</td>\n",
              "      <td>The Coral Reef</td>\n",
              "      <td>Normal</td>\n",
              "      <td>Licensed</td>\n",
              "      <td>Minecraft</td>\n",
              "      <td>Minifig-scale</td>\n",
              "      <td>2021</td>\n",
              "      <td>[Alex, Drowned Zombie, Brick Built Animals, Fi...</td>\n",
              "      <td>92</td>\n",
              "      <td>Box</td>\n",
              "      <td>14.1 x 12.2 x 6.1 cm (5.6 x 4.8 x 2.4 in)</td>\n",
              "      <td>EAN: 5702016913569</td>\n",
              "      <td>NA: 6332805EU: 6332804</td>\n",
              "      <td>Retail</td>\n",
              "      <td>✭✭✭✭✭ 4.5 21 ratings</td>\n",
              "      <td>NaN</td>\n",
              "      <td>NaN</td>\n",
              "      <td>NaN</td>\n",
              "      <td>NaN</td>\n",
              "      <td>NaN</td>\n",
              "      <td>8.99</td>\n",
              "      <td>9.99</td>\n",
              "      <td>9.99</td>\n",
              "      <td>2</td>\n",
              "      <td>2</td>\n",
              "    </tr>\n",
              "    <tr>\n",
              "      <th>30344</th>\n",
              "      <td>30344-1</td>\n",
              "      <td>Mini Monkey King Warrior Mech</td>\n",
              "      <td>Normal</td>\n",
              "      <td>Action/Adventure</td>\n",
              "      <td>Monkie Kid</td>\n",
              "      <td>Miscellaneous</td>\n",
              "      <td>2021</td>\n",
              "      <td>[Asia, China, Gift with Purchase, Mech, Micros...</td>\n",
              "      <td>65</td>\n",
              "      <td>Polybag</td>\n",
              "      <td>NaN</td>\n",
              "      <td>NaN</td>\n",
              "      <td>NaN</td>\n",
              "      <td>LEGO exclusive</td>\n",
              "      <td>Not yet rated</td>\n",
              "      <td>[Xiaodong Wen]</td>\n",
              "      <td>\\nNew: \\nUsed:\\n</td>\n",
              "      <td>[AU/NZ] Free with qualifying purchases from sh...</td>\n",
              "      <td>NaN</td>\n",
              "      <td>NaN</td>\n",
              "      <td>NaN</td>\n",
              "      <td>NaN</td>\n",
              "      <td>NaN</td>\n",
              "      <td>0</td>\n",
              "      <td>0</td>\n",
              "    </tr>\n",
              "  </tbody>\n",
              "</table>\n",
              "</div>"
            ],
            "text/plain": [
              "          Set number                           Name Set type  \\\n",
              "Set lista                                                      \n",
              "21164        21164-1                 The Coral Reef   Normal   \n",
              "30344        30344-1  Mini Monkey King Warrior Mech   Normal   \n",
              "\n",
              "                Theme group       Theme       Subtheme  Year released  \\\n",
              "Set lista                                                               \n",
              "21164              Licensed   Minecraft  Minifig-scale           2021   \n",
              "30344      Action/Adventure  Monkie Kid  Miscellaneous           2021   \n",
              "\n",
              "                                                        Tags  Pieces  \\\n",
              "Set lista                                                              \n",
              "21164      [Alex, Drowned Zombie, Brick Built Animals, Fi...      92   \n",
              "30344      [Asia, China, Gift with Purchase, Mech, Micros...      65   \n",
              "\n",
              "          Packaging                                 Dimensions  \\\n",
              "Set lista                                                        \n",
              "21164           Box  14.1 x 12.2 x 6.1 cm (5.6 x 4.8 x 2.4 in)   \n",
              "30344       Polybag                                        NaN   \n",
              "\n",
              "                     Barcodes       LEGO item numbers    Availability  \\\n",
              "Set lista                                                               \n",
              "21164      EAN: 5702016913569  NA: 6332805EU: 6332804          Retail   \n",
              "30344                     NaN                     NaN  LEGO exclusive   \n",
              "\n",
              "                          Rating       Designers     Current value  \\\n",
              "Set lista                                                            \n",
              "21164      ✭✭✭✭✭ 4.5 21 ratings              NaN               NaN   \n",
              "30344              Not yet rated  [Xiaodong Wen]  \\nNew: \\nUsed:\\n   \n",
              "\n",
              "                                                       Notes Age range Weight  \\\n",
              "Set lista                                                                       \n",
              "21164                                                    NaN       NaN    NaN   \n",
              "30344      [AU/NZ] Free with qualifying purchases from sh...       NaN    NaN   \n",
              "\n",
              "           RRP GBP  RRP USD  RRP EUR  Minifigs  Unique to set  \n",
              "Set lista                                                      \n",
              "21164         8.99     9.99     9.99         2              2  \n",
              "30344          NaN      NaN      NaN         0              0  "
            ]
          },
          "metadata": {
            "tags": []
          }
        },
        {
          "output_type": "display_data",
          "data": {
            "text/plain": [
              "(28, 25)"
            ]
          },
          "metadata": {
            "tags": []
          }
        }
      ]
    },
    {
      "cell_type": "code",
      "metadata": {
        "colab": {
          "base_uri": "https://localhost:8080/",
          "height": 17
        },
        "id": "t4Mnlkk-Ad4q",
        "outputId": "cf885b9b-db62-4ba3-f971-b8e9ef0b8810"
      },
      "source": [
        "nome_xlsx = 'brickset.xlsx'\n",
        "from google.colab import files\n",
        "df_sets.to_excel(nome_xlsx, sheet_name='sets', na_rep='', index=True)\n",
        "files.download(nome_xlsx)"
      ],
      "execution_count": 12,
      "outputs": [
        {
          "output_type": "display_data",
          "data": {
            "application/javascript": [
              "\n",
              "    async function download(id, filename, size) {\n",
              "      if (!google.colab.kernel.accessAllowed) {\n",
              "        return;\n",
              "      }\n",
              "      const div = document.createElement('div');\n",
              "      const label = document.createElement('label');\n",
              "      label.textContent = `Downloading \"${filename}\": `;\n",
              "      div.appendChild(label);\n",
              "      const progress = document.createElement('progress');\n",
              "      progress.max = size;\n",
              "      div.appendChild(progress);\n",
              "      document.body.appendChild(div);\n",
              "\n",
              "      const buffers = [];\n",
              "      let downloaded = 0;\n",
              "\n",
              "      const channel = await google.colab.kernel.comms.open(id);\n",
              "      // Send a message to notify the kernel that we're ready.\n",
              "      channel.send({})\n",
              "\n",
              "      for await (const message of channel.messages) {\n",
              "        // Send a message to notify the kernel that we're ready.\n",
              "        channel.send({})\n",
              "        if (message.buffers) {\n",
              "          for (const buffer of message.buffers) {\n",
              "            buffers.push(buffer);\n",
              "            downloaded += buffer.byteLength;\n",
              "            progress.value = downloaded;\n",
              "          }\n",
              "        }\n",
              "      }\n",
              "      const blob = new Blob(buffers, {type: 'application/binary'});\n",
              "      const a = document.createElement('a');\n",
              "      a.href = window.URL.createObjectURL(blob);\n",
              "      a.download = filename;\n",
              "      div.appendChild(a);\n",
              "      a.click();\n",
              "      div.remove();\n",
              "    }\n",
              "  "
            ],
            "text/plain": [
              "<IPython.core.display.Javascript object>"
            ]
          },
          "metadata": {
            "tags": []
          }
        },
        {
          "output_type": "display_data",
          "data": {
            "application/javascript": [
              "download(\"download_a45f00bd-6ae8-467f-888a-4f2764056d51\", \"brickset.xlsx\", 12032)"
            ],
            "text/plain": [
              "<IPython.core.display.Javascript object>"
            ]
          },
          "metadata": {
            "tags": []
          }
        }
      ]
    }
  ]
}